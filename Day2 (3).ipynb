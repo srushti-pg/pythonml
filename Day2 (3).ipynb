{
  "nbformat": 4,
  "nbformat_minor": 0,
  "metadata": {
    "colab": {
      "provenance": []
    },
    "kernelspec": {
      "name": "python3",
      "display_name": "Python 3"
    },
    "language_info": {
      "name": "python"
    }
  },
  "cells": [
    {
      "cell_type": "code",
      "execution_count": null,
      "metadata": {
        "id": "X1PLDsE7vfOe"
      },
      "outputs": [],
      "source": [
        "def square(x):\n",
        "  return x ** 2\n"
      ]
    },
    {
      "cell_type": "code",
      "source": [
        "square_lambda = lambda x: x ** 2\n",
        "print(f\"Regular function: {square(5)}\")\n",
        "print(f\"Lambda function: {square_lambda(5)}\")"
      ],
      "metadata": {
        "colab": {
          "base_uri": "https://localhost:8080/"
        },
        "id": "dFhpJCQev7Gk",
        "outputId": "0c514fdc-0d4b-4ea5-d66b-4f955cadbc6c"
      },
      "execution_count": null,
      "outputs": [
        {
          "output_type": "stream",
          "name": "stdout",
          "text": [
            "Regular function: 25\n",
            "Lambda function: 25\n"
          ]
        }
      ]
    },
    {
      "cell_type": "code",
      "source": [
        "multiply = lambda x, y: x * y\n",
        "print(f\"Multiply: {multiply(3, 4)}\")"
      ],
      "metadata": {
        "colab": {
          "base_uri": "https://localhost:8080/"
        },
        "id": "2ISzIjcBv_ym",
        "outputId": "b776e3e0-b631-4297-db30-0a1ce78edb5d"
      },
      "execution_count": null,
      "outputs": [
        {
          "output_type": "stream",
          "name": "stdout",
          "text": [
            "Multiply: 12\n"
          ]
        }
      ]
    },
    {
      "cell_type": "markdown",
      "source": [],
      "metadata": {
        "id": "XDBO9k9lvtc3"
      }
    },
    {
      "cell_type": "code",
      "source": [
        "numbers = [1, 2, 3, 4, 5]\n",
        "squared = list(map(lambda x: x**2, numbers))\n",
        "print(f\"Squared numbers: {squared}\")"
      ],
      "metadata": {
        "colab": {
          "base_uri": "https://localhost:8080/"
        },
        "id": "Y3CDpsW7wV1a",
        "outputId": "b1435a39-f2aa-42d6-c031-fffb1005b71a"
      },
      "execution_count": null,
      "outputs": [
        {
          "output_type": "stream",
          "name": "stdout",
          "text": [
            "Squared numbers: [1, 4, 9, 16, 25]\n"
          ]
        }
      ]
    },
    {
      "cell_type": "code",
      "source": [
        "ages = [16, 21, 35, 12, 45, 18, 67]\n",
        "adults = list(filter(lambda age: age >= 18, ages))\n",
        "print(f\"Adult ages: {adults}\")\n"
      ],
      "metadata": {
        "colab": {
          "base_uri": "https://localhost:8080/"
        },
        "id": "VroBHc-dwldM",
        "outputId": "65a6e41d-b962-4a93-c207-eef54e82f017"
      },
      "execution_count": null,
      "outputs": [
        {
          "output_type": "stream",
          "name": "stdout",
          "text": [
            "Adult ages: [21, 35, 45, 18, 67]\n"
          ]
        }
      ]
    },
    {
      "cell_type": "code",
      "source": [
        "people = [\n",
        "  {\"name\": \"Alice\", \"age\": 30},\n",
        "  {\"name\": \"Bob\", \"age\": 25},\n",
        "  {\"name\": \"Charlie\", \"age\": 35}\n",
        "]\n",
        "sorted_people = sorted(people, key=lambda person: person[\"age\"])\n",
        "print(\"People sorted by age:\")\n",
        "\n",
        "for person in sorted_people:\n",
        "  print(f\" {person['name']}: {person['age']}\")\n"
      ],
      "metadata": {
        "colab": {
          "base_uri": "https://localhost:8080/"
        },
        "id": "sYry6x2Pwr-Q",
        "outputId": "abb43e68-ce85-449f-a6f8-8fe0649e3155"
      },
      "execution_count": null,
      "outputs": [
        {
          "output_type": "stream",
          "name": "stdout",
          "text": [
            "People sorted by age:\n",
            " Bob: 25\n",
            " Alice: 30\n",
            " Charlie: 35\n"
          ]
        }
      ]
    },
    {
      "cell_type": "code",
      "source": [
        "def create_library_system():\n",
        "  \"\"\"\n",
        "  Create a simple library management system\n",
        "  \"\"\"\n",
        "  books = []\n",
        "\n",
        "  def add_book(title, author, isbn, available=True):\n",
        "    book = {\n",
        "    \"title\": title,\n",
        "    \"author\": author,\n",
        "    \"isbn\": isbn,\n",
        "    \"available\": available\n",
        "    }\n",
        "    books.append(book)\n",
        "    print(f\"Added: {title} by {author}\")\n",
        "\n",
        "  def find_book(title):\n",
        "    for book in books:\n",
        "      if book[\"title\"].lower() == title.lower():\n",
        "        return book\n",
        "    return None\n",
        "\n",
        "  def checkout_book(title):\n",
        "    book = find_book(title)\n",
        "    if book and book[\"available\"]:\n",
        "      book[\"available\"] = False\n",
        "      print(f\"Checked out: {title}\")\n",
        "      return True\n",
        "    else:\n",
        "      print(f\"Book not available: {title}\")\n",
        "      return False\n",
        "\n",
        "  def return_book(title):\n",
        "    book = find_book(title)\n",
        "    if book:\n",
        "      book[\"available\"] = True\n",
        "      print(f\"Returned: {title}\")\n",
        "      return True\n",
        "    else:\n",
        "      print(f\"Book not found: {title}\")\n",
        "      return False\n",
        "\n",
        "  def list_available_books():\n",
        "    available = [book for book in books if book[\"available\"]]\n",
        "    print(\"Available books:\")\n",
        "    for book in available:\n",
        "      print(f\" - {book['title']} by {book['author']}\")\n",
        "      return available\n",
        "\n",
        "  return add_book, find_book, checkout_book, return_book, list_available_books\n",
        "\n"
      ],
      "metadata": {
        "id": "Alwg-AGNxdM7"
      },
      "execution_count": null,
      "outputs": []
    },
    {
      "cell_type": "code",
      "source": [
        "add_book, find_book, checkout_book, return_book, list_available = create_library_system()\n",
        "\n",
        "# Add some books\n",
        "add_book(\"The Python Guide\", \"John Doe\", \"123-456-789\")\n",
        "add_book(\"Web Development Basics\", \"Jane Smith\", \"987-654-321\")\n",
        "add_book(\"Database Design\", \"Bob Johnson\", \"555-123-456\")\n",
        "\n",
        "# Test operations\n",
        "print(\"\\n--- Library Operations ---\")\n",
        "list_available()\n",
        "print()\n",
        "\n",
        "checkout_book(\"The Python Guide\")\n",
        "list_available()\n",
        "print()\n",
        "\n",
        "return_book(\"The Python Guide\")\n",
        "list_available()"
      ],
      "metadata": {
        "colab": {
          "base_uri": "https://localhost:8080/"
        },
        "id": "XyY_oUitx2Sg",
        "outputId": "f87307b8-15a5-4f2c-bbdf-8ffdae53b8f9"
      },
      "execution_count": null,
      "outputs": [
        {
          "output_type": "stream",
          "name": "stdout",
          "text": [
            "Added: The Python Guide by John Doe\n",
            "Added: Web Development Basics by Jane Smith\n",
            "Added: Database Design by Bob Johnson\n",
            "\n",
            "--- Library Operations ---\n",
            "Available books:\n",
            " - The Python Guide by John Doe\n",
            "\n",
            "Checked out: The Python Guide\n",
            "Available books:\n",
            " - Web Development Basics by Jane Smith\n",
            "\n",
            "Returned: The Python Guide\n",
            "Available books:\n",
            " - The Python Guide by John Doe\n"
          ]
        },
        {
          "output_type": "execute_result",
          "data": {
            "text/plain": [
              "[{'title': 'The Python Guide',\n",
              "  'author': 'John Doe',\n",
              "  'isbn': '123-456-789',\n",
              "  'available': True},\n",
              " {'title': 'Web Development Basics',\n",
              "  'author': 'Jane Smith',\n",
              "  'isbn': '987-654-321',\n",
              "  'available': True},\n",
              " {'title': 'Database Design',\n",
              "  'author': 'Bob Johnson',\n",
              "  'isbn': '555-123-456',\n",
              "  'available': True}]"
            ]
          },
          "metadata": {},
          "execution_count": 557
        }
      ]
    },
    {
      "cell_type": "markdown",
      "source": [
        "conditional statements"
      ],
      "metadata": {
        "id": "h52NYfqEyRll"
      }
    },
    {
      "cell_type": "code",
      "source": [
        "def get_grade_letter(score):\n",
        "  if score >= 90:\n",
        "    return \"A\"\n",
        "  elif score >= 80:\n",
        "    return \"B\"\n",
        "  elif score >= 70:\n",
        "    return \"C\"\n",
        "  elif score >= 60:\n",
        "    return \"D\"\n",
        "  else:\n",
        "    return \"F\""
      ],
      "metadata": {
        "id": "caQ50uRbyWoy"
      },
      "execution_count": null,
      "outputs": []
    },
    {
      "cell_type": "code",
      "source": [
        "test_scores = [95, 83, 72, 65, 58]\n",
        "for score in test_scores:\n",
        "  grade = get_grade_letter(score)\n",
        "  print(f\"Score {score}: Grade {grade}\")"
      ],
      "metadata": {
        "colab": {
          "base_uri": "https://localhost:8080/"
        },
        "id": "pANHezAwydKN",
        "outputId": "781ebc6c-9e03-4181-d3aa-16b8ce0d371f"
      },
      "execution_count": null,
      "outputs": [
        {
          "output_type": "stream",
          "name": "stdout",
          "text": [
            "Score 95: Grade A\n",
            "Score 83: Grade B\n",
            "Score 72: Grade C\n",
            "Score 65: Grade D\n",
            "Score 58: Grade F\n"
          ]
        }
      ]
    },
    {
      "cell_type": "code",
      "source": [
        "def get_shipping_cost(weight, distance):\n",
        "  base_cost = 5.0\n",
        "\n",
        "  if weight <= 1:\n",
        "    weight_cost = 2.0\n",
        "  elif weight <= 5:\n",
        "    weight_cost = 5.0\n",
        "  else:\n",
        "    weight_cost = 10.0\n",
        "\n",
        "  if distance <= 100:\n",
        "    distance_cost = 1.0\n",
        "  elif distance <= 500:\n",
        "    distance_cost = 3.0\n",
        "  else:\n",
        "    distance_cost = 7.0\n",
        "  return base_cost + weight_cost + distance_cost"
      ],
      "metadata": {
        "id": "f5wThx0iyws_"
      },
      "execution_count": null,
      "outputs": []
    },
    {
      "cell_type": "code",
      "source": [
        "print(f\"Light, close: ${get_shipping_cost(0.5, 50)}\")\n",
        "print(f\"Heavy, far: ${get_shipping_cost(10, 800)}\")\n",
        "\n"
      ],
      "metadata": {
        "colab": {
          "base_uri": "https://localhost:8080/"
        },
        "id": "nHFKz-bcy3yX",
        "outputId": "13451549-461b-4482-c4f5-69aa5f3d7faa"
      },
      "execution_count": null,
      "outputs": [
        {
          "output_type": "stream",
          "name": "stdout",
          "text": [
            "Light, close: $8.0\n",
            "Heavy, far: $22.0\n"
          ]
        }
      ]
    },
    {
      "cell_type": "code",
      "source": [
        "fruits = [\"apple\", \"banana\", \"orange\", \"grape\"]\n",
        "for fruit in fruits:\n",
        "  print(f\"I like {fruit}\")\n",
        "\n",
        "\n"
      ],
      "metadata": {
        "colab": {
          "base_uri": "https://localhost:8080/"
        },
        "id": "Mw3KJHsuzBw4",
        "outputId": "3a6f9d01-4939-4342-ca5f-94baac38c530"
      },
      "execution_count": null,
      "outputs": [
        {
          "output_type": "stream",
          "name": "stdout",
          "text": [
            "I like apple\n",
            "I like banana\n",
            "I like orange\n",
            "I like grape\n"
          ]
        }
      ]
    },
    {
      "cell_type": "code",
      "source": [
        "for i, fruit in enumerate(fruits):\n",
        "  print(f\"{i+1}. {fruit}\")"
      ],
      "metadata": {
        "colab": {
          "base_uri": "https://localhost:8080/"
        },
        "id": "1b053xSgzVe3",
        "outputId": "f4d87322-f66e-493d-8fbd-d25299591581"
      },
      "execution_count": null,
      "outputs": [
        {
          "output_type": "stream",
          "name": "stdout",
          "text": [
            "1. apple\n",
            "2. banana\n",
            "3. orange\n",
            "4. grape\n"
          ]
        }
      ]
    },
    {
      "cell_type": "code",
      "source": [
        "for day in range(1, 8):\n",
        "  print(f\"Day {day} of the week\")"
      ],
      "metadata": {
        "colab": {
          "base_uri": "https://localhost:8080/"
        },
        "id": "csLqjB0_zf9-",
        "outputId": "723dff29-27c9-48e1-9e01-5edac02b2e8f"
      },
      "execution_count": null,
      "outputs": [
        {
          "output_type": "stream",
          "name": "stdout",
          "text": [
            "Day 1 of the week\n",
            "Day 2 of the week\n",
            "Day 3 of the week\n",
            "Day 4 of the week\n",
            "Day 5 of the week\n",
            "Day 6 of the week\n",
            "Day 7 of the week\n"
          ]
        }
      ]
    },
    {
      "cell_type": "code",
      "source": [
        "print(\"Multiplication Table:\")\n",
        "for i in range(1, 6):\n",
        "  for j in range(1, 6):\n",
        "    product = i * j\n",
        "    print(f\"{i} x {j} = {product:2d}\", end=\" \")\n",
        "    print()"
      ],
      "metadata": {
        "colab": {
          "base_uri": "https://localhost:8080/"
        },
        "id": "vLoTD_8xzf37",
        "outputId": "11995e90-e62c-49d0-8dbd-0f5ef35be2ee"
      },
      "execution_count": null,
      "outputs": [
        {
          "output_type": "stream",
          "name": "stdout",
          "text": [
            "Multiplication Table:\n",
            "1 x 1 =  1 \n",
            "1 x 2 =  2 \n",
            "1 x 3 =  3 \n",
            "1 x 4 =  4 \n",
            "1 x 5 =  5 \n",
            "2 x 1 =  2 \n",
            "2 x 2 =  4 \n",
            "2 x 3 =  6 \n",
            "2 x 4 =  8 \n",
            "2 x 5 = 10 \n",
            "3 x 1 =  3 \n",
            "3 x 2 =  6 \n",
            "3 x 3 =  9 \n",
            "3 x 4 = 12 \n",
            "3 x 5 = 15 \n",
            "4 x 1 =  4 \n",
            "4 x 2 =  8 \n",
            "4 x 3 = 12 \n",
            "4 x 4 = 16 \n",
            "4 x 5 = 20 \n",
            "5 x 1 =  5 \n",
            "5 x 2 = 10 \n",
            "5 x 3 = 15 \n",
            "5 x 4 = 20 \n",
            "5 x 5 = 25 \n"
          ]
        }
      ]
    },
    {
      "cell_type": "code",
      "source": [
        "sales_data = [\n",
        "{\"product\": \"Laptop\", \"price\": 999, \"quantity\": 5},\n",
        "{\"product\": \"Phone\", \"price\": 599, \"quantity\": 10},\n",
        "{\"product\": \"Tablet\", \"price\": 399, \"quantity\": 8}\n",
        "]\n",
        "\n",
        "total_revenue = 0\n",
        "\n",
        "for item in sales_data:\n",
        "  item_revenue = item[\"price\"] * item[\"quantity\"]\n",
        "  total_revenue += item_revenue\n",
        "  print(f\"{item['product']}: ${item_revenue}\")\n",
        "\n",
        "print(f\"Total Revenue: ${total_revenue}\")\n"
      ],
      "metadata": {
        "colab": {
          "base_uri": "https://localhost:8080/"
        },
        "id": "kgU5GvOjzz3k",
        "outputId": "72bb51db-6134-42e6-fc3a-ce6d3627f3bd"
      },
      "execution_count": null,
      "outputs": [
        {
          "output_type": "stream",
          "name": "stdout",
          "text": [
            "Laptop: $4995\n",
            "Phone: $5990\n",
            "Tablet: $3192\n",
            "Total Revenue: $14177\n"
          ]
        }
      ]
    },
    {
      "cell_type": "code",
      "source": [
        "def simple_guessing_game():\n",
        "  target = 7\n",
        "  guess = 0\n",
        "  attempts = 0\n",
        "  print(\"Guess the number between 1 and 10!\")\n",
        "\n",
        "  while guess != target:\n",
        "\n",
        "    # Simulate user input\n",
        "    import random\n",
        "    guess = random.randint(1, 10)\n",
        "    attempts += 1\n",
        "\n",
        "    if guess < target:\n",
        "      print(f\"Guess {attempts}: {guess} - Too low!\")\n",
        "    elif guess > target:\n",
        "      print(f\"Guess {attempts}: {guess} - Too high!\")\n",
        "    else:\n",
        "      print(f\"Guess {attempts}: {guess} - Correct!\")\n",
        "\n",
        "    # Safety check\n",
        "    if attempts > 10:\n",
        "      print(\"Max attempts reached!\")\n",
        "      break\n",
        "\n",
        "  print(f\"Game finished in {attempts} attempts\")\n",
        "\n",
        "simple_guessing_game()"
      ],
      "metadata": {
        "colab": {
          "base_uri": "https://localhost:8080/"
        },
        "id": "PxGz3lIh0FpD",
        "outputId": "3d7d7ce9-ed8a-4674-90c2-b70d7e26fee1"
      },
      "execution_count": null,
      "outputs": [
        {
          "output_type": "stream",
          "name": "stdout",
          "text": [
            "Guess the number between 1 and 10!\n",
            "Guess 1: 1 - Too low!\n",
            "Guess 2: 9 - Too high!\n",
            "Guess 3: 5 - Too low!\n",
            "Guess 4: 10 - Too high!\n",
            "Guess 5: 7 - Correct!\n",
            "Game finished in 5 attempts\n"
          ]
        }
      ]
    },
    {
      "cell_type": "code",
      "source": [
        "def process_queue():\n",
        "  queue = [\"Task 1\", \"Task 2\", \"Task 3\", \"Task 4\"]\n",
        "\n",
        "  while queue:\n",
        "    current_task = queue.pop(0) # Remove first item\n",
        "    print(f\"Processing: {current_task}\")\n",
        "\n",
        "    print(f\"Remaining tasks: {len(queue)}\")\n",
        "\n",
        "  print(\"All tasks completed!\")\n",
        "\n",
        "process_queue()\n"
      ],
      "metadata": {
        "colab": {
          "base_uri": "https://localhost:8080/"
        },
        "id": "ioyU0l-d0aWz",
        "outputId": "5b3ae13d-da76-4fe7-e0f2-da1706e32f44"
      },
      "execution_count": null,
      "outputs": [
        {
          "output_type": "stream",
          "name": "stdout",
          "text": [
            "Processing: Task 1\n",
            "Remaining tasks: 3\n",
            "Processing: Task 2\n",
            "Remaining tasks: 2\n",
            "Processing: Task 3\n",
            "Remaining tasks: 1\n",
            "Processing: Task 4\n",
            "Remaining tasks: 0\n",
            "All tasks completed!\n"
          ]
        }
      ]
    },
    {
      "cell_type": "markdown",
      "source": [
        "functions"
      ],
      "metadata": {
        "id": "7MF8M-FQ0_Mk"
      }
    },
    {
      "cell_type": "code",
      "source": [
        "def greet(name):\n",
        "  return f\"Hello, {name}!\"\n"
      ],
      "metadata": {
        "id": "AcuTGd5t1CV2"
      },
      "execution_count": null,
      "outputs": []
    },
    {
      "cell_type": "markdown",
      "source": [],
      "metadata": {
        "id": "dm3E3ZtI0-xw"
      }
    },
    {
      "cell_type": "code",
      "source": [
        "message = greet(\"Python Programmer\")\n",
        "print(message)"
      ],
      "metadata": {
        "colab": {
          "base_uri": "https://localhost:8080/"
        },
        "id": "wYavHQ9l1Ie0",
        "outputId": "8e975dba-852d-492f-a86a-65fc49f28f3c"
      },
      "execution_count": null,
      "outputs": [
        {
          "output_type": "stream",
          "name": "stdout",
          "text": [
            "Hello, Python Programmer!\n"
          ]
        }
      ]
    },
    {
      "cell_type": "code",
      "source": [
        "def calculate_area(length, width):\n",
        "  area = length * width\n",
        "  return area\n",
        "\n"
      ],
      "metadata": {
        "id": "xW7qSYkM1bB9"
      },
      "execution_count": null,
      "outputs": []
    },
    {
      "cell_type": "code",
      "source": [
        "room_area = calculate_area(12, 10)\n",
        "print(f\"Room area: {room_area} square feet\")\n"
      ],
      "metadata": {
        "colab": {
          "base_uri": "https://localhost:8080/"
        },
        "id": "baujPNdT1roB",
        "outputId": "6375f4d1-db1b-477e-c559-d7ba33531488"
      },
      "execution_count": null,
      "outputs": [
        {
          "output_type": "stream",
          "name": "stdout",
          "text": [
            "Room area: 120 square feet\n"
          ]
        }
      ]
    },
    {
      "cell_type": "code",
      "source": [
        "def create_user_profile(name, age=18, location=\"Unknown\", active=True):\n",
        "  return {\n",
        "      \"name\": name,\n",
        "      \"age\": age,\n",
        "      \"location\": location,\n",
        "      \"active\": active\n",
        "  }"
      ],
      "metadata": {
        "id": "NZBNyvyk10XF"
      },
      "execution_count": null,
      "outputs": []
    },
    {
      "cell_type": "code",
      "source": [
        "\n",
        "profile1 = create_user_profile(\"Alice\") # Use defaults\n",
        "profile2 = create_user_profile(\"Bob\", 25) # Override age\n",
        "profile3 = create_user_profile(\"Charlie\", location=\"New York\", age=30) # Named parameters\n",
        "\n",
        "print(f\"Profile 1: {profile1}\")\n",
        "print(f\"Profile 2: {profile2}\")\n",
        "print(f\"Profile 3: {profile3}\")"
      ],
      "metadata": {
        "colab": {
          "base_uri": "https://localhost:8080/"
        },
        "id": "M3YllMra16YR",
        "outputId": "7a25432a-9098-4d2a-fc3d-875f1b30218e"
      },
      "execution_count": null,
      "outputs": [
        {
          "output_type": "stream",
          "name": "stdout",
          "text": [
            "Profile 1: {'name': 'Alice', 'age': 18, 'location': 'Unknown', 'active': True}\n",
            "Profile 2: {'name': 'Bob', 'age': 25, 'location': 'Unknown', 'active': True}\n",
            "Profile 3: {'name': 'Charlie', 'age': 30, 'location': 'New York', 'active': True}\n"
          ]
        }
      ]
    },
    {
      "cell_type": "code",
      "source": [
        "def analyze_text(text):\n",
        "  words = text.split()\n",
        "  word_count = len(words)\n",
        "  char_count = len(text)\n",
        "  char_count_no_spaces = len(text.replace(\" \", \"\"))\n",
        "  return word_count, char_count, char_count_no_spaces\n"
      ],
      "metadata": {
        "id": "VNjJd0z-2ErT"
      },
      "execution_count": null,
      "outputs": []
    },
    {
      "cell_type": "code",
      "source": [
        "sample_text = \"Python is a powerful programming language\"\n",
        "words, chars, chars_no_space = analyze_text(sample_text)\n",
        "print(f\"Text: '{sample_text}'\")\n",
        "print(f\"Word count: {words}\")\n",
        "print(f\"Character count: {chars}\")\n",
        "print(f\"Characters (no spaces): {chars_no_space}\")\n"
      ],
      "metadata": {
        "colab": {
          "base_uri": "https://localhost:8080/"
        },
        "id": "HI67B8862LJc",
        "outputId": "7eb3c8b4-7914-420c-d53d-f92cff0494ac"
      },
      "execution_count": null,
      "outputs": [
        {
          "output_type": "stream",
          "name": "stdout",
          "text": [
            "Text: 'Python is a powerful programming language'\n",
            "Word count: 6\n",
            "Character count: 41\n",
            "Characters (no spaces): 36\n"
          ]
        }
      ]
    },
    {
      "cell_type": "code",
      "source": [
        "def calculate_average(*numbers):\n",
        "  if not numbers:\n",
        "    return 0\n",
        "    return sum(numbers) / len(numbers)\n",
        "\n",
        "avg1 = calculate_average(10, 20, 30)\n",
        "avg2 = calculate_average(5, 15, 25, 35, 45)\n",
        "avg3 = calculate_average(100)\n",
        "\n",
        "print(f\"Average of 10, 20, 30: {avg1}\")\n",
        "print(f\"Average of 5, 15, 25, 35, 45: {avg2}\")\n",
        "print(f\"Average of 100: {avg3}\")\n"
      ],
      "metadata": {
        "colab": {
          "base_uri": "https://localhost:8080/"
        },
        "id": "tjRhWPOb3W4Q",
        "outputId": "fa14d64b-bd34-42fa-c990-658bb4fb790d"
      },
      "execution_count": null,
      "outputs": [
        {
          "output_type": "stream",
          "name": "stdout",
          "text": [
            "Average of 10, 20, 30: None\n",
            "Average of 5, 15, 25, 35, 45: None\n",
            "Average of 100: None\n"
          ]
        }
      ]
    },
    {
      "cell_type": "code",
      "source": [
        "def create_report(**data):\n",
        "  print(\"=== REPORT ===\")\n",
        "  for key, value in data.items():\n",
        "    print(f\"{key.replace('_', ' ').title()}: {value}\")\n",
        "\n",
        "  print(\"===============\")\n",
        "\n",
        "create_report(\n",
        "  title=\"Monthly Sales Report\",\n",
        "  date=\"2024-01-01\",\n",
        "  total_sales=15000,\n",
        "  new_customers=25,\n",
        "  returning_customers=150\n",
        ")"
      ],
      "metadata": {
        "id": "c6pEvazZ3wMy",
        "outputId": "e4f14ffa-697c-4f47-e945-3d06bf3eb6e9",
        "colab": {
          "base_uri": "https://localhost:8080/"
        }
      },
      "execution_count": null,
      "outputs": [
        {
          "output_type": "stream",
          "name": "stdout",
          "text": [
            "=== REPORT ===\n",
            "Title: Monthly Sales Report\n",
            "Date: 2024-01-01\n",
            "Total Sales: 15000\n",
            "New Customers: 25\n",
            "Returning Customers: 150\n",
            "===============\n"
          ]
        }
      ]
    }
  ]
}
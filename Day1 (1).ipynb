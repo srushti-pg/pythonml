{
  "nbformat": 4,
  "nbformat_minor": 0,
  "metadata": {
    "colab": {
      "provenance": []
    },
    "kernelspec": {
      "name": "python3",
      "display_name": "Python 3"
    },
    "language_info": {
      "name": "python"
    }
  },
  "cells": [
    {
      "cell_type": "markdown",
      "source": [
        "python syntax and structure"
      ],
      "metadata": {
        "id": "EHhMoNSEOQgA"
      }
    },
    {
      "cell_type": "code",
      "execution_count": null,
      "metadata": {
        "colab": {
          "base_uri": "https://localhost:8080/"
        },
        "id": "07aM9A_41V2E",
        "outputId": "88887343-9838-418f-fd63-a6e30e16461a"
      },
      "outputs": [
        {
          "output_type": "stream",
          "name": "stdout",
          "text": [
            "Python Version:3.11.13 (main, Jun  4 2025, 08:57:29) [GCC 11.4.0]\n",
            "Yes python is working corrrectly!\n"
          ]
        }
      ],
      "source": [
        "import sys\n",
        "print(f\"Python Version:{sys.version}\")\n",
        "print(\"Yes python is working corrrectly!\")"
      ]
    },
    {
      "cell_type": "code",
      "source": [],
      "metadata": {
        "id": "E2_a_2LGGejr"
      },
      "execution_count": null,
      "outputs": []
    },
    {
      "cell_type": "markdown",
      "source": [
        "In"
      ],
      "metadata": {
        "id": "CepRQdEC78Yr"
      }
    },
    {
      "cell_type": "code",
      "source": [
        "print(\"Hello World !\")\n",
        "x=5\n",
        "y=10"
      ],
      "metadata": {
        "colab": {
          "base_uri": "https://localhost:8080/"
        },
        "id": "XefnmBke8NRp",
        "outputId": "124b4db4-2ed8-4c3d-947c-8e6dbba74783"
      },
      "execution_count": null,
      "outputs": [
        {
          "output_type": "stream",
          "name": "stdout",
          "text": [
            "Hello World !\n"
          ]
        }
      ]
    },
    {
      "cell_type": "code",
      "source": [
        "Name=\"John\"\n",
        "name=\"Jane\"\n",
        "print(Name , name)"
      ],
      "metadata": {
        "colab": {
          "base_uri": "https://localhost:8080/"
        },
        "id": "NFOyRVvs9GyT",
        "outputId": "e01dcbe5-f382-4fb5-b866-d8687392fc7c"
      },
      "execution_count": null,
      "outputs": [
        {
          "output_type": "stream",
          "name": "stdout",
          "text": [
            "John Jane\n"
          ]
        }
      ]
    },
    {
      "cell_type": "code",
      "source": [
        "if x>0:\n",
        "  print(\"x is positive\")\n",
        "  print(\"This is inside the if block\")"
      ],
      "metadata": {
        "colab": {
          "base_uri": "https://localhost:8080/"
        },
        "id": "ImhDLfJE9cdw",
        "outputId": "8ab93e29-e235-4068-a3e5-44b5798843d8"
      },
      "execution_count": null,
      "outputs": [
        {
          "output_type": "stream",
          "name": "stdout",
          "text": [
            "x is positive\n",
            "This is inside the if block\n"
          ]
        }
      ]
    },
    {
      "cell_type": "code",
      "source": [
        "name=\"Alice\"\n",
        "message='Hello World'\n",
        "multiline=\"\"\" This is a multiline string \"\"\""
      ],
      "metadata": {
        "id": "zwU_b9Xa9zDz"
      },
      "execution_count": null,
      "outputs": []
    },
    {
      "cell_type": "code",
      "source": [
        "str_number =\"123\"\n",
        "int_number =int(str_number)\n",
        "float_number=(float(str_number))\n",
        "print(f\"Original: {str_number}(type:{type(str_number)})\")\n",
        "print(f\"Integer: {int_number}(type:{type(int_number)})\")\n",
        "print(f\"Float: {float_number}(type:{type(float_number)})\")"
      ],
      "metadata": {
        "colab": {
          "base_uri": "https://localhost:8080/"
        },
        "id": "cijTC-CT--5E",
        "outputId": "437ea778-3393-4b7d-9d4c-2c93b90df798"
      },
      "execution_count": null,
      "outputs": [
        {
          "output_type": "stream",
          "name": "stdout",
          "text": [
            "Original: 123(type:<class 'str'>)\n",
            "Integer: 123(type:<class 'int'>)\n",
            "Float: 123.0(type:<class 'float'>)\n"
          ]
        }
      ]
    },
    {
      "cell_type": "code",
      "source": [
        "first_name = \"your first name\"\n",
        "last_name = \"your last name\"\n",
        "age= 25\n",
        "height =5.8\n",
        "is_student = True\n",
        "print(f\"Name: {first_name} {last_name}\")\n",
        "print(f\"Age:{age}\")\n",
        "print(f\"Height:{height} feet\")\n",
        "print(f\"Student:{is_student} \")\n",
        "age_str = str(age)\n",
        "height_int =int(height)\n",
        "print(f\"Age is string:{age_str}\")\n",
        "print(f\"Height as integer:{height_int}\")\n",
        "\n",
        "\n"
      ],
      "metadata": {
        "colab": {
          "base_uri": "https://localhost:8080/"
        },
        "id": "xXIc3TLbBfUU",
        "outputId": "c5faee78-6bbe-41f8-e85f-6915856747b8"
      },
      "execution_count": null,
      "outputs": [
        {
          "output_type": "stream",
          "name": "stdout",
          "text": [
            "Name: your first name your last name\n",
            "Age:25\n",
            "Height:5.8 feet\n",
            "Student:True \n",
            "Age is string:25\n",
            "Height as integer:5\n"
          ]
        }
      ]
    },
    {
      "cell_type": "code",
      "source": [
        "a=10\n",
        "b=3\n",
        "print(f\"Addition :{a}+{b}={a+b}\")\n",
        "print(f\"substraction :{a}-{b}={a-b}\")\n",
        "print(f\"Multiplication:{a}*{b}={a*b}\")\n",
        "print(f\"Division:{a}/{b}={a/b}\")\n",
        "print(f\" Floor Division:{a}//{b}={a//b}\")\n",
        "print(f\"Modulus :{a}%{b}={a%b}\")\n",
        "print(f\"Exponentiation :{a}**{b}={a**b}\")\n",
        "result = 2+3*4**2-1\n",
        "print(f\"2+3*4**2-1={result}\")"
      ],
      "metadata": {
        "colab": {
          "base_uri": "https://localhost:8080/"
        },
        "id": "xUHoHk6xGjes",
        "outputId": "260d291a-b418-4c40-d5db-9d02170b5047"
      },
      "execution_count": null,
      "outputs": [
        {
          "output_type": "stream",
          "name": "stdout",
          "text": [
            "Addition :10+3=13\n",
            "substraction :10-3=7\n",
            "Multiplication:10*3=30\n",
            "Division:10/3=3.3333333333333335\n",
            " Floor Division:10//3=3\n",
            "Modulus :10%3=1\n",
            "Exponentiation :10**3=1000\n",
            "2+3*4**2-1=49\n"
          ]
        }
      ]
    },
    {
      "cell_type": "code",
      "source": [],
      "metadata": {
        "id": "ZFN5WmdrIkkB"
      },
      "execution_count": null,
      "outputs": []
    },
    {
      "cell_type": "code",
      "source": [
        "x=5\n",
        "y=10\n",
        "print(f\"{x}=={y}:{x==y}\")\n",
        "print(f\"{x}!={y}:{x!=y}\")\n",
        "print(f\"{x}<{y}:{x<y}\")\n",
        "print(f\"{x}>{y}:{x>y}\")\n",
        "print(f\"{x}<={y}:{x<=y}\")\n",
        "print(f\"{x}>={y}:{x>=y}\")"
      ],
      "metadata": {
        "colab": {
          "base_uri": "https://localhost:8080/"
        },
        "id": "kpF84xGGJMR5",
        "outputId": "937a24f5-da32-4fd9-ea01-631b6a6504a0"
      },
      "execution_count": null,
      "outputs": [
        {
          "output_type": "stream",
          "name": "stdout",
          "text": [
            "5==10:False\n",
            "5!=10:True\n",
            "5<10:True\n",
            "5>10:False\n",
            "5<=10:True\n",
            "5>=10:False\n"
          ]
        }
      ]
    },
    {
      "cell_type": "code",
      "source": [
        "name1=\"Alice\"\n",
        "name2=\"Bob\"\n",
        "print(f\"'{name1}'<'{name2}': {name1<name2}\")"
      ],
      "metadata": {
        "colab": {
          "base_uri": "https://localhost:8080/"
        },
        "id": "YK9fuRp2KGdS",
        "outputId": "1ed52989-972a-494a-dfd4-51a8c5e83e9f"
      },
      "execution_count": null,
      "outputs": [
        {
          "output_type": "stream",
          "name": "stdout",
          "text": [
            "'Alice'<'Bob': True\n"
          ]
        }
      ]
    },
    {
      "cell_type": "code",
      "source": [
        "p= True\n",
        "q= False\n",
        "\n",
        "print(f\"p and q:{p and q}\")\n",
        "print(f\"p or q:{p or q}\")\n",
        "print(f\"not p:{ not p }\")"
      ],
      "metadata": {
        "colab": {
          "base_uri": "https://localhost:8080/"
        },
        "id": "DmxMbQAMLk9U",
        "outputId": "bfcf577f-61ef-4d25-875b-be58b694a03a"
      },
      "execution_count": null,
      "outputs": [
        {
          "output_type": "stream",
          "name": "stdout",
          "text": [
            "p and q:False\n",
            "p or q:True\n",
            "not p:False\n"
          ]
        }
      ]
    },
    {
      "cell_type": "code",
      "source": [
        "age= 20\n",
        "has_license = True\n",
        "can_drive = age>=18 and has_license\n",
        "print(f\"Can drive:{can_drive}\")"
      ],
      "metadata": {
        "colab": {
          "base_uri": "https://localhost:8080/"
        },
        "id": "8J49XYOkMpvz",
        "outputId": "843bb555-59ef-46ce-b7db-9fc17e1d434d"
      },
      "execution_count": null,
      "outputs": [
        {
          "output_type": "stream",
          "name": "stdout",
          "text": [
            "Can drive:True\n"
          ]
        }
      ]
    },
    {
      "cell_type": "code",
      "source": [
        "score=85\n",
        "is_present =True\n",
        "can_pass = score>=80 and is_present\n",
        "print(f\"Can pass:{can_pass}\")"
      ],
      "metadata": {
        "colab": {
          "base_uri": "https://localhost:8080/"
        },
        "id": "OvTwV0YENHZI",
        "outputId": "443d2052-78e4-4ada-cce5-87bf7cfac14b"
      },
      "execution_count": null,
      "outputs": [
        {
          "output_type": "stream",
          "name": "stdout",
          "text": [
            "Can pass:True\n"
          ]
        }
      ]
    },
    {
      "cell_type": "markdown",
      "source": [
        "hands on exercise\n"
      ],
      "metadata": {
        "id": "_oe-eW_YOfMU"
      }
    },
    {
      "cell_type": "code",
      "source": [
        "age=25\n",
        "annual_income= 50000\n",
        "credit_score=720\n",
        "has_collateral=True"
      ],
      "metadata": {
        "id": "EjDPkO-lOmEa"
      },
      "execution_count": null,
      "outputs": []
    },
    {
      "cell_type": "code",
      "source": [
        "min_age = 18\n",
        "min_income=30000\n",
        "min_credit_score =650"
      ],
      "metadata": {
        "id": "FfxvM7XePEBB"
      },
      "execution_count": null,
      "outputs": []
    },
    {
      "cell_type": "code",
      "source": [
        "age_qualified = age >= min_age\n",
        "income_qualified = annual_income >= min_income\n",
        "credit_qualified = credit_score >= min_credit_score\n",
        "overall_qualified = age_qualified and income_qualified and credit_qualified"
      ],
      "metadata": {
        "id": "BjLgoutLmLIY"
      },
      "execution_count": null,
      "outputs": []
    },
    {
      "cell_type": "code",
      "source": [
        "print(\"=== Loan Qualification Check ===\")\n",
        "print(f\"Age: {age} (Required: {min_age}) - {'Yes' if age_qualified else 'No'}\")\n",
        "print(f\"Income: ${annual_income} (Required: ${min_income}) - {'Yes' if income_qualified else 'No'}\")\n",
        "print(f\"Credit Score: {credit_score} (Required: {min_credit_score}) - {'Yes' if credit_qualified else 'No'}\")\n",
        "print(f\"Has Collateral: {'Yes' if has_collateral else 'No'}\")\n",
        "print(f\"\\nOverall Qualification: {'QUALIFIED' if overall_qualified else 'NOT QUALIFIED'}\")"
      ],
      "metadata": {
        "colab": {
          "base_uri": "https://localhost:8080/"
        },
        "id": "FIG3r-ooowAI",
        "outputId": "e9015682-3cac-4e1d-9084-7088fa04647a"
      },
      "execution_count": null,
      "outputs": [
        {
          "output_type": "stream",
          "name": "stdout",
          "text": [
            "=== Loan Qualification Check ===\n",
            "Age: 25 (Required: 18) - Yes\n",
            "Income: $50000 (Required: $30000) - Yes\n",
            "Credit Score: 720 (Required: 650) - Yes\n",
            "Has Collateral: Yes\n",
            "\n",
            "Overall Qualification: QUALIFIED\n"
          ]
        }
      ]
    },
    {
      "cell_type": "markdown",
      "source": [
        "list"
      ],
      "metadata": {
        "id": "ca0pxhtdo29x"
      }
    },
    {
      "cell_type": "code",
      "source": [
        "fruits = [\"apple\", \"banana\", \"orange\", \"grape\"]\n",
        "numbers = [10, 20, 30, 40, 50]\n",
        "mixed_data = [1, \"Hello\", 3.14, True]"
      ],
      "metadata": {
        "id": "jlnVFCX0o5Aq"
      },
      "execution_count": null,
      "outputs": []
    },
    {
      "cell_type": "code",
      "source": [
        "\n"
      ],
      "metadata": {
        "id": "lgd8Es8SpJPy"
      },
      "execution_count": null,
      "outputs": []
    },
    {
      "cell_type": "code",
      "source": [
        "print(f\"First 2 fruits: {fruits[0:2]}\")\n",
        "print(f\"Last 2 fruits: {fruits[-2:]}\")\n",
        "print(f\"All except first: {fruits[1:]}\")\n"
      ],
      "metadata": {
        "colab": {
          "base_uri": "https://localhost:8080/"
        },
        "id": "usuOmnITo_WJ",
        "outputId": "82c05d09-b2c6-49f6-f500-fefd7ecd37c6"
      },
      "execution_count": null,
      "outputs": [
        {
          "output_type": "stream",
          "name": "stdout",
          "text": [
            "First 2 fruits: ['apple', 'banana']\n",
            "Last 2 fruits: ['orange', 'grape']\n",
            "All except first: ['banana', 'orange', 'grape']\n"
          ]
        }
      ]
    },
    {
      "cell_type": "code",
      "source": [
        "fruits.append(\"kiwi\") # Add to end\n",
        "fruits.insert(1, \"strawberry\") # Insert at index\n",
        "removed = fruits.pop() # Remove last\n",
        "print(f\"Updated list: {fruits}\")\n",
        "print(f\"Removed: {removed}\")"
      ],
      "metadata": {
        "colab": {
          "base_uri": "https://localhost:8080/"
        },
        "id": "F7M9gjVlpn3a",
        "outputId": "50a5cde0-f9cf-4867-86ee-61756a829e7b"
      },
      "execution_count": null,
      "outputs": [
        {
          "output_type": "stream",
          "name": "stdout",
          "text": [
            "Updated list: ['apple', 'strawberry', 'banana', 'orange', 'grape']\n",
            "Removed: kiwi\n"
          ]
        }
      ]
    },
    {
      "cell_type": "code",
      "source": [
        "print(f\"Length: {len(fruits)}\")\n",
        "print(f\"Contains 'apple': {'apple' in fruits}\")\n",
        "print(f\"Index of 'banana': {fruits.index('banana')}\")"
      ],
      "metadata": {
        "colab": {
          "base_uri": "https://localhost:8080/"
        },
        "id": "bT48PLCgp823",
        "outputId": "d6087a1d-7b87-4198-cccb-f47041a0b7b7"
      },
      "execution_count": null,
      "outputs": [
        {
          "output_type": "stream",
          "name": "stdout",
          "text": [
            "Length: 5\n",
            "Contains 'apple': True\n",
            "Index of 'banana': 2\n"
          ]
        }
      ]
    },
    {
      "cell_type": "markdown",
      "source": [
        "tuple"
      ],
      "metadata": {
        "id": "gMFNpug2qT_D"
      }
    },
    {
      "cell_type": "code",
      "source": [
        "coordinates = (10, 20)\n",
        "rgb_color = (255, 128, 0)\n",
        "person_info = (\"Alice\", 25, \"Engineer\", True)\n"
      ],
      "metadata": {
        "id": "_NhDuNo_qVuO"
      },
      "execution_count": null,
      "outputs": []
    },
    {
      "cell_type": "code",
      "source": [
        "coordinates = (10, 20)\n",
        "rgb_color = (255, 128, 0)\n",
        "person_info = (\"Alice\", 25, \"Engineer\", True)\n"
      ],
      "metadata": {
        "id": "xHCEMDEYqlfx"
      },
      "execution_count": null,
      "outputs": []
    },
    {
      "cell_type": "markdown",
      "source": [
        "dictionaries\n"
      ],
      "metadata": {
        "id": "nFaE43_Lqu4k"
      }
    },
    {
      "cell_type": "code",
      "source": [
        "person = {\n",
        "\"name\": \"Alice Johnson\",\n",
        "\"age\": 23,\n",
        "\"profession\": \"Software Engineer\",\n",
        "\"salary\": 75000,\n",
        "\"skills\": [\"Python\", \"JavaScript\", \"SQL\"]\n",
        "}"
      ],
      "metadata": {
        "id": "RFx8Jym_qxlg"
      },
      "execution_count": null,
      "outputs": []
    },
    {
      "cell_type": "code",
      "source": [
        "print(f\"Keys: {list(person.keys())}\")\n",
        "print(f\"Values: {list(person.values())}\")\n",
        "print(f\"Items: {list(person.items())}\")\n"
      ],
      "metadata": {
        "colab": {
          "base_uri": "https://localhost:8080/"
        },
        "id": "2tCpWKXuq80i",
        "outputId": "73929243-797c-4775-f88e-575b5268ff09"
      },
      "execution_count": null,
      "outputs": [
        {
          "output_type": "stream",
          "name": "stdout",
          "text": [
            "Keys: ['name', 'age', 'profession', 'salary', 'skills']\n",
            "Values: ['Alice Johnson', 23, 'Software Engineer', 75000, ['Python', 'JavaScript', 'SQL']]\n",
            "Items: [('name', 'Alice Johnson'), ('age', 23), ('profession', 'Software Engineer'), ('salary', 75000), ('skills', ['Python', 'JavaScript', 'SQL'])]\n"
          ]
        }
      ]
    },
    {
      "cell_type": "code",
      "source": [
        "print(f\"Name: {person['name']}\")\n",
        "print(f\"Age: {person.get('age', 'Unknown')}\")"
      ],
      "metadata": {
        "colab": {
          "base_uri": "https://localhost:8080/"
        },
        "id": "ZxQy6iQwq_h8",
        "outputId": "7c4d71e5-bcfd-44e8-9e68-a4ca4fdeafe7"
      },
      "execution_count": null,
      "outputs": [
        {
          "output_type": "stream",
          "name": "stdout",
          "text": [
            "Name: Alice Johnson\n",
            "Age: 23\n"
          ]
        }
      ]
    },
    {
      "cell_type": "code",
      "source": [
        "person[\"location\"] = \"New York\"\n",
        "person[\"salary\"] = 80000"
      ],
      "metadata": {
        "id": "mfJvKdcsreLW"
      },
      "execution_count": null,
      "outputs": []
    },
    {
      "cell_type": "code",
      "source": [
        "inventory = {\n",
        "\"laptops\": {\"quantity\": 50, \"price\": 999.99},\n",
        "\"phones\": {\"quantity\": 100, \"price\": 599.99},\n",
        "\"tablets\": {\"quantity\": 30, \"price\": 399.99}\n",
        "}\n"
      ],
      "metadata": {
        "id": "j69zvLkgrnOg"
      },
      "execution_count": null,
      "outputs": []
    },
    {
      "cell_type": "code",
      "source": [
        "print(f\"Laptop price: ${inventory['laptops']['price']}\")"
      ],
      "metadata": {
        "colab": {
          "base_uri": "https://localhost:8080/"
        },
        "id": "95Z3kgeusFk7",
        "outputId": "88d8f15b-c54d-49b7-cf65-eab68f6e7bc8"
      },
      "execution_count": null,
      "outputs": [
        {
          "output_type": "stream",
          "name": "stdout",
          "text": [
            "Laptop price: $999.99\n"
          ]
        }
      ]
    }
  ]
}